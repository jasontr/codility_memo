{
 "cells": [
  {
   "cell_type": "markdown",
   "metadata": {},
   "source": [
    "# 3. MinAvgTwoSlice"
   ]
  },
  {
   "cell_type": "markdown",
   "metadata": {},
   "source": [
    "## 相关链接\n",
    "[题目](https://app.codility.com/programmers/lessons/5-prefix_sums/min_avg_two_slice/)  \n",
    "[samplecode page](https://app.codility.com/demo/results/trainingEEFTWW-JUN/)\n",
    "## 分析\n",
    "这道题虽然在prefix sum lesson里面，但个人感觉和prefix sum无太大相关性。一开始强行用prefix sum的方法做了一个字典，然而使用这个字典解决问题也使用了两层for循环，面对极端case的时候发生了timeout。在查找prefix sum相关资料时，发现prefix sum与dp有关,常常作为dp的memo使用。然而用dp的看法去想这道题也并没有头绪，遂而看了看网上解答。自己找到的大家的满分过的代码，都是用  \n",
    "  \n",
    "**从0到列表长度-2分别作为起始位置，轮询判断（起始位置`i`与`i+1`）或是（起始位置`i`与`i+1`与`i+2`）的平均是否小于当前记录过的最小值，如果是，更新最小值并记录当前起始位置**  \n",
    "  \n",
    "个人认为，本题其实是一个不等式证明问题\n",
    "\n",
    "核心是证明\n",
    "\n",
    "$$a < b \\Rightarrow a < \\frac{a+b}{2}$$\n",
    "$$\\frac{a}{3} < \\frac{b}{2} \\Rightarrow \\frac{a}{3} < \\frac{a+b}{5}$$\n",
    "\n",
    "如果slice是偶数项个\n",
    "用数学归纳法可以将\n",
    "$$a < b \\Rightarrow a < \\frac{a+b}{2}$$\n",
    "也就是\n",
    "$$\\frac{a}{2} < \\frac{b}{2} \\Rightarrow \\frac{a}{2} < \\frac{a+b}{4}$$\n",
    "推广到任意偶数项和求平均\n",
    "  \n",
    "如果slice是奇数项个\n",
    "可以把其拆成3项 任意个2项的平均 的构成\n",
    "用数学归纳法将\n",
    "$$a < b \\Rightarrow a < \\frac{a+b}{2}$$\n",
    "$$\\frac{a}{3} < \\frac{b}{2} \\Rightarrow \\frac{a}{3} < \\frac{a+b}{5}$$\n",
    "推广到任意奇数项（大于3）和求平均"
   ]
  },
  {
   "cell_type": "code",
   "execution_count": null,
   "metadata": {
    "collapsed": true
   },
   "outputs": [],
   "source": []
  }
 ],
 "metadata": {
  "kernelspec": {
   "display_name": "Python 3",
   "language": "python",
   "name": "python3"
  },
  "language_info": {
   "codemirror_mode": {
    "name": "ipython",
    "version": 3
   },
   "file_extension": ".py",
   "mimetype": "text/x-python",
   "name": "python",
   "nbconvert_exporter": "python",
   "pygments_lexer": "ipython3",
   "version": "3.6.1"
  }
 },
 "nbformat": 4,
 "nbformat_minor": 2
}
